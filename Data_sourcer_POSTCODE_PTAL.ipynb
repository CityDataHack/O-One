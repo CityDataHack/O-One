{
 "cells": [
  {
   "cell_type": "code",
   "execution_count": 8,
   "metadata": {
    "colab": {
     "autoexec": {
      "startup": false,
      "wait_interval": 0
     }
    },
    "colab_type": "code",
    "id": "8z8iNt3osE5t"
   },
   "outputs": [],
   "source": [
    "import requests\n",
    "import pandas as pd\n",
    "import scipy.spatial.distance as ssd"
   ]
  },
  {
   "cell_type": "code",
   "execution_count": 9,
   "metadata": {
    "colab": {
     "autoexec": {
      "startup": false,
      "wait_interval": 0
     }
    },
    "colab_type": "code",
    "id": "ud_xoZVpzbBV"
   },
   "outputs": [],
   "source": [
    "def query(postcode, offset=0):\n",
    "  URL = 'https://api.ordnancesurvey.co.uk/places/v1/addresses/postcode'\n",
    "  params = {'postcode': postcode, 'key': 'dxp6QRGemG64Aj4HdswNnIAzjIyKwMt1', 'offset': offset}\n",
    "  data = requests.get(URL, params=params).json()\n",
    "  header = data['header']\n",
    "  results = data['results']\n",
    "  yield [d['DPA'] for d in results]\n",
    "  if header['totalresults'] > offset + header['maxresults']:\n",
    "    yield from query(postcode, offset=offset + header['maxresults'])"
   ]
  },
  {
   "cell_type": "code",
   "execution_count": 25,
   "metadata": {
    "colab": {
     "autoexec": {
      "startup": false,
      "wait_interval": 0
     },
     "base_uri": "https://localhost:8080/",
     "height": 73,
     "output_extras": [
      {
       "item_id": 1
      },
      {
       "item_id": 2
      }
     ],
     "resources": {
      "http://localhost:8080/nbextensions/google.colab/files.js": {
       "data": "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",
       "headers": [
        [
         "content-type",
         "application/javascript"
        ]
       ],
       "ok": true,
       "status": 200,
       "status_text": ""
      }
     }
    },
    "colab_type": "code",
    "executionInfo": {
     "elapsed": 33317,
     "status": "ok",
     "timestamp": 1521307436335,
     "user": {
      "displayName": "Florian Rathgeber",
      "photoUrl": "//lh5.googleusercontent.com/-pwowNI0gvJ0/AAAAAAAAAAI/AAAAAAABN4M/5slPtO2MMcE/s50-c-k-no/photo.jpg",
      "userId": "112983298713989864872"
     },
     "user_tz": 0
    },
    "id": "RV7lko4z_LqB",
    "outputId": "0d9a94d6-b949-455c-b643-46dda77fe3ed"
   },
   "outputs": [
    {
     "data": {
      "text/html": [
       "\n",
       "     <input type=\"file\" id=\"files-b41a9fe7-ddc9-4756-9cd9-bfb80e21ed7b\" name=\"files[]\" multiple disabled />\n",
       "     <output id=\"result-b41a9fe7-ddc9-4756-9cd9-bfb80e21ed7b\">\n",
       "      Upload widget is only available when the cell has been executed in the\n",
       "      current browser session. Please rerun this cell to enable.\n",
       "      </output>\n",
       "      <script src=\"/nbextensions/google.colab/files.js\"></script> "
      ],
      "text/plain": [
       "<IPython.core.display.HTML object>"
      ]
     },
     "metadata": {
      "tags": []
     },
     "output_type": "display_data"
    },
    {
     "name": "stdout",
     "output_type": "stream",
     "text": [
      "Saving PTALs.csv to PTALs.csv\n"
     ]
    }
   ],
   "source": [
    "from google.colab import files\n",
    "uploaded = files.upload()"
   ]
  },
  {
   "cell_type": "code",
   "execution_count": 30,
   "metadata": {
    "colab": {
     "autoexec": {
      "startup": false,
      "wait_interval": 0
     },
     "base_uri": "https://localhost:8080/",
     "height": 388,
     "output_extras": [
      {
       "item_id": 1
      }
     ]
    },
    "colab_type": "code",
    "executionInfo": {
     "elapsed": 202,
     "status": "error",
     "timestamp": 1521308363344,
     "user": {
      "displayName": "Florian Rathgeber",
      "photoUrl": "//lh5.googleusercontent.com/-pwowNI0gvJ0/AAAAAAAAAAI/AAAAAAABN4M/5slPtO2MMcE/s50-c-k-no/photo.jpg",
      "userId": "112983298713989864872"
     },
     "user_tz": 0
    },
    "id": "Zxuc-Ol8BxhJ",
    "outputId": "3208718a-adca-4ea3-d09d-92c1ed28276e"
   },
   "outputs": [
    {
     "ename": "ModuleNotFoundError",
     "evalue": "ignored",
     "output_type": "error",
     "traceback": [
      "\u001b[0;31m---------------------------------------------------------------------------\u001b[0m",
      "\u001b[0;31mModuleNotFoundError\u001b[0m                       Traceback (most recent call last)",
      "\u001b[0;32m<ipython-input-30-7bd0d007b3fa>\u001b[0m in \u001b[0;36m<module>\u001b[0;34m()\u001b[0m\n\u001b[1;32m      2\u001b[0m \u001b[0mauth\u001b[0m\u001b[0;34m.\u001b[0m\u001b[0mauthenticate_user\u001b[0m\u001b[0;34m(\u001b[0m\u001b[0;34m)\u001b[0m\u001b[0;34m\u001b[0m\u001b[0m\n\u001b[1;32m      3\u001b[0m \u001b[0;34m\u001b[0m\u001b[0m\n\u001b[0;32m----> 4\u001b[0;31m \u001b[0;32mimport\u001b[0m \u001b[0mgspread\u001b[0m\u001b[0;34m\u001b[0m\u001b[0m\n\u001b[0m\u001b[1;32m      5\u001b[0m \u001b[0;32mfrom\u001b[0m \u001b[0moauth2client\u001b[0m\u001b[0;34m.\u001b[0m\u001b[0mclient\u001b[0m \u001b[0;32mimport\u001b[0m \u001b[0mGoogleCredentials\u001b[0m\u001b[0;34m\u001b[0m\u001b[0m\n\u001b[1;32m      6\u001b[0m \u001b[0;34m\u001b[0m\u001b[0m\n",
      "\u001b[0;31mModuleNotFoundError\u001b[0m: No module named 'gspread'",
      "",
      "\u001b[0;31m---------------------------------------------------------------------------\u001b[0;32m\nNOTE: If your import is failing due to a missing package, you can\nmanually install dependencies using either !pip or !apt.\n\nTo view examples of installing some common dependencies, click the\n\"Open Examples\" button below.\n\u001b[0;31m---------------------------------------------------------------------------\u001b[0m\n"
     ]
    }
   ],
   "source": [
    "from google.colab import auth\n",
    "auth.authenticate_user()\n",
    "\n",
    "import gspread\n",
    "from oauth2client.client import GoogleCredentials\n",
    "\n",
    "gc = gspread.authorize(GoogleCredentials.get_application_default())"
   ]
  },
  {
   "cell_type": "code",
   "execution_count": 71,
   "metadata": {
    "colab": {
     "autoexec": {
      "startup": false,
      "wait_interval": 0
     }
    },
    "colab_type": "code",
    "id": "QenZgrH3AU6B"
   },
   "outputs": [
    {
     "name": "stdout",
     "output_type": "stream",
     "text": [
      "/Users/vincentmargerin/CityDataHack/data/\n",
      "   X_COORDINATE  Y_COORDINATE\n",
      "0        527245        173952\n",
      "1        527345        173952\n",
      "2        527445        173952\n",
      "3        527545        173952\n",
      "4        527645        173952\n",
      "5        527745        173952\n",
      "6        527845        173952\n",
      "7        527945        173952\n",
      "8        528045        173952\n",
      "9        528145        173952\n"
     ]
    }
   ],
   "source": [
    "#from io import BytesIO\n",
    "#ptal = pd.read_csv(BytesIO(uploaded['PTALs.csv']))\n",
    "#points = ptal[['X', 'Y']].values\n",
    "\n",
    "directory = input()\n",
    "datapath= 'PTAL_Grid_2018_2021_2031.csv'\n",
    "ptal_data = pd.read_csv(directory + datapath)\n",
    "ptal_data.head()\n",
    "\n",
    "ptal_data = ptal_data.rename(columns= {'X': 'X_COORDINATE', \\\n",
    "                                       'Y': 'Y_COORDINATE', \\\n",
    "                                       'PTALBY': 'PTAL_2018'})\n",
    "points = ptal_data[['X_COORDINATE', 'Y_COORDINATE']]\n",
    "print(points.iloc[:10, :])"
   ]
  },
  {
   "cell_type": "code",
   "execution_count": 72,
   "metadata": {
    "colab": {
     "autoexec": {
      "startup": false,
      "wait_interval": 0
     }
    },
    "colab_type": "code",
    "id": "f8LrLYePJCav"
   },
   "outputs": [],
   "source": [
    "def get_data(postcode):\n",
    "  df = pd.concat(pd.DataFrame(res) for res in query(postcode))\n",
    "  df['PTAL_2018'] = df.apply(lambda row: ptal_data.PTAL_2018[ssd.cdist([[row['X_COORDINATE'], row['Y_COORDINATE']]], points).argmin()], axis=1)\n",
    "  return df"
   ]
  },
  {
   "cell_type": "code",
   "execution_count": 73,
   "metadata": {
    "colab": {
     "autoexec": {
      "startup": false,
      "wait_interval": 0
     }
    },
    "colab_type": "code",
    "id": "gmOmXQM5sLIQ"
   },
   "outputs": [],
   "source": [
    "postcode = 'N5'\n",
    "df = get_data(postcode)\n",
    "df['Region'] = postcode"
   ]
  },
  {
   "cell_type": "code",
   "execution_count": 74,
   "metadata": {
    "colab": {
     "autoexec": {
      "startup": false,
      "wait_interval": 0
     },
     "base_uri": "https://localhost:8080/",
     "height": 5287,
     "output_extras": [
      {
       "item_id": 1
      }
     ]
    },
    "colab_type": "code",
    "executionInfo": {
     "elapsed": 628,
     "status": "ok",
     "timestamp": 1521309870182,
     "user": {
      "displayName": "Florian Rathgeber",
      "photoUrl": "//lh5.googleusercontent.com/-pwowNI0gvJ0/AAAAAAAAAAI/AAAAAAABN4M/5slPtO2MMcE/s50-c-k-no/photo.jpg",
      "userId": "112983298713989864872"
     },
     "user_tz": 0
    },
    "id": "8FMcggCnsOtQ",
    "outputId": "0d1c30a2-adcb-4c8d-82eb-76a1a07b6e91",
    "scrolled": false
   },
   "outputs": [
    {
     "data": {
      "text/html": [
       "<div>\n",
       "<style scoped>\n",
       "    .dataframe tbody tr th:only-of-type {\n",
       "        vertical-align: middle;\n",
       "    }\n",
       "\n",
       "    .dataframe tbody tr th {\n",
       "        vertical-align: top;\n",
       "    }\n",
       "\n",
       "    .dataframe thead th {\n",
       "        text-align: right;\n",
       "    }\n",
       "</style>\n",
       "<table border=\"1\" class=\"dataframe\">\n",
       "  <thead>\n",
       "    <tr style=\"text-align: right;\">\n",
       "      <th></th>\n",
       "      <th>LOCAL_CUSTODIAN_CODE</th>\n",
       "      <th>MATCH</th>\n",
       "      <th>X_COORDINATE</th>\n",
       "      <th>Y_COORDINATE</th>\n",
       "      <th>PTAL_2018</th>\n",
       "    </tr>\n",
       "  </thead>\n",
       "  <tbody>\n",
       "    <tr>\n",
       "      <th>count</th>\n",
       "      <td>10023.000000</td>\n",
       "      <td>10023.0</td>\n",
       "      <td>10023.000000</td>\n",
       "      <td>10023.000000</td>\n",
       "      <td>10023.000000</td>\n",
       "    </tr>\n",
       "    <tr>\n",
       "      <th>mean</th>\n",
       "      <td>5576.343909</td>\n",
       "      <td>1.0</td>\n",
       "      <td>531925.823106</td>\n",
       "      <td>185673.366936</td>\n",
       "      <td>4.701387</td>\n",
       "    </tr>\n",
       "    <tr>\n",
       "      <th>std</th>\n",
       "      <td>141.820190</td>\n",
       "      <td>0.0</td>\n",
       "      <td>380.010377</td>\n",
       "      <td>403.899651</td>\n",
       "      <td>1.293076</td>\n",
       "    </tr>\n",
       "    <tr>\n",
       "      <th>min</th>\n",
       "      <td>5360.000000</td>\n",
       "      <td>1.0</td>\n",
       "      <td>531183.000000</td>\n",
       "      <td>184748.000000</td>\n",
       "      <td>2.000000</td>\n",
       "    </tr>\n",
       "    <tr>\n",
       "      <th>25%</th>\n",
       "      <td>5570.000000</td>\n",
       "      <td>1.0</td>\n",
       "      <td>531600.000000</td>\n",
       "      <td>185316.000000</td>\n",
       "      <td>4.000000</td>\n",
       "    </tr>\n",
       "    <tr>\n",
       "      <th>50%</th>\n",
       "      <td>5570.000000</td>\n",
       "      <td>1.0</td>\n",
       "      <td>531918.000000</td>\n",
       "      <td>185701.000000</td>\n",
       "      <td>5.000000</td>\n",
       "    </tr>\n",
       "    <tr>\n",
       "      <th>75%</th>\n",
       "      <td>5570.000000</td>\n",
       "      <td>1.0</td>\n",
       "      <td>532225.000000</td>\n",
       "      <td>185996.000000</td>\n",
       "      <td>6.000000</td>\n",
       "    </tr>\n",
       "    <tr>\n",
       "      <th>max</th>\n",
       "      <td>7655.000000</td>\n",
       "      <td>1.0</td>\n",
       "      <td>532773.000000</td>\n",
       "      <td>186495.000000</td>\n",
       "      <td>7.000000</td>\n",
       "    </tr>\n",
       "  </tbody>\n",
       "</table>\n",
       "</div>"
      ],
      "text/plain": [
       "       LOCAL_CUSTODIAN_CODE    MATCH   X_COORDINATE   Y_COORDINATE  \\\n",
       "count          10023.000000  10023.0   10023.000000   10023.000000   \n",
       "mean            5576.343909      1.0  531925.823106  185673.366936   \n",
       "std              141.820190      0.0     380.010377     403.899651   \n",
       "min             5360.000000      1.0  531183.000000  184748.000000   \n",
       "25%             5570.000000      1.0  531600.000000  185316.000000   \n",
       "50%             5570.000000      1.0  531918.000000  185701.000000   \n",
       "75%             5570.000000      1.0  532225.000000  185996.000000   \n",
       "max             7655.000000      1.0  532773.000000  186495.000000   \n",
       "\n",
       "          PTAL_2018  \n",
       "count  10023.000000  \n",
       "mean       4.701387  \n",
       "std        1.293076  \n",
       "min        2.000000  \n",
       "25%        4.000000  \n",
       "50%        5.000000  \n",
       "75%        6.000000  \n",
       "max        7.000000  "
      ]
     },
     "execution_count": 74,
     "metadata": {},
     "output_type": "execute_result"
    }
   ],
   "source": [
    "df= df.replace(to_replace= {'PTAL_2018': {'6a': '6', '6b': '7'}})\n",
    "df['PTAL_2018'].value_counts()\n",
    "df['PTAL_2018']= pd.to_numeric(df['PTAL_2018'])\n",
    "df.describe()"
   ]
  },
  {
   "cell_type": "code",
   "execution_count": 75,
   "metadata": {
    "colab": {
     "autoexec": {
      "startup": false,
      "wait_interval": 0
     },
     "base_uri": "https://localhost:8080/",
     "height": 899,
     "output_extras": [
      {
       "item_id": 1
      }
     ]
    },
    "colab_type": "code",
    "executionInfo": {
     "elapsed": 470,
     "status": "ok",
     "timestamp": 1521304969792,
     "user": {
      "displayName": "Florian Rathgeber",
      "photoUrl": "//lh5.googleusercontent.com/-pwowNI0gvJ0/AAAAAAAAAAI/AAAAAAABN4M/5slPtO2MMcE/s50-c-k-no/photo.jpg",
      "userId": "112983298713989864872"
     },
     "user_tz": 0
    },
    "id": "iAaapoJo1l90",
    "outputId": "70525fc9-f60b-4890-e617-3b2a1c8d763a"
   },
   "outputs": [
    {
     "data": {
      "text/plain": [
       "Dwelling                                                           4748\n",
       "Self Contained Flat (Includes Maisonette / Apartment)              3405\n",
       "Property Shell                                                     1250\n",
       "Terraced                                                            203\n",
       "Shop / Showroom                                                     132\n",
       "Dual Use                                                             47\n",
       "Commercial                                                           40\n",
       "Retail                                                               31\n",
       "PO Box                                                               28\n",
       "Office / Work Studio                                                 24\n",
       "Detached                                                             17\n",
       "Additional Mail / Packet Addressee                                   17\n",
       "Semi-Detached                                                        11\n",
       "Residential                                                           9\n",
       "Children’s Nursery / Crèche                                           5\n",
       "HMO Bedsit / Other Non Self Contained Accommodation                   4\n",
       "Health Care Services                                                  3\n",
       "Restaurant / Cafeteria                                                3\n",
       "Public House / Bar / Nightclub                                        3\n",
       "Public / Village Hall / Other Community Facility                      3\n",
       "Place Of Worship                                                      3\n",
       "Secondary / High School                                               3\n",
       "Preparatory / First / Primary / Infant / Junior / Middle School       3\n",
       "Primary School                                                        3\n",
       "Station / Interchange / Terminal / Halt                               2\n",
       "Communal Residence                                                    2\n",
       "Retail Service Agent                                                  2\n",
       "Fast Food Outlet / Takeaway (Hot / Cold)                              2\n",
       "HMO Parent                                                            1\n",
       "Telecommunication                                                     1\n",
       "Football Facility                                                     1\n",
       "Servicing Garage                                                      1\n",
       "Community Service Centre / Office                                     1\n",
       "Manufacturing                                                         1\n",
       "Post Office                                                           1\n",
       "University                                                            1\n",
       "Other Educational Establishment                                       1\n",
       "Awaiting Classification                                               1\n",
       "Vet / Animal Medical Treatment                                        1\n",
       "Indoor / Outdoor Leisure / Sporting Activity / Centre                 1\n",
       "Dentist                                                               1\n",
       "Care / Nursing Home                                                   1\n",
       "Activity / Leisure / Sports Centre                                    1\n",
       "Health Centre                                                         1\n",
       "Bank / Financial Service                                              1\n",
       "Factory/Manufacturing                                                 1\n",
       "Library                                                               1\n",
       "Church                                                                1\n",
       "Name: CLASSIFICATION_CODE_DESCRIPTION, dtype: int64"
      ]
     },
     "execution_count": 75,
     "metadata": {},
     "output_type": "execute_result"
    }
   ],
   "source": [
    "df.CLASSIFICATION_CODE_DESCRIPTION.value_counts()"
   ]
  },
  {
   "cell_type": "code",
   "execution_count": 76,
   "metadata": {
    "colab": {
     "autoexec": {
      "startup": false,
      "wait_interval": 0
     }
    },
    "colab_type": "code",
    "id": "jY0BL3zn15__"
   },
   "outputs": [
    {
     "data": {
      "text/html": [
       "<div>\n",
       "<style scoped>\n",
       "    .dataframe tbody tr th:only-of-type {\n",
       "        vertical-align: middle;\n",
       "    }\n",
       "\n",
       "    .dataframe tbody tr th {\n",
       "        vertical-align: top;\n",
       "    }\n",
       "\n",
       "    .dataframe thead th {\n",
       "        text-align: right;\n",
       "    }\n",
       "</style>\n",
       "<table border=\"1\" class=\"dataframe\">\n",
       "  <thead>\n",
       "    <tr style=\"text-align: right;\">\n",
       "      <th></th>\n",
       "      <th>Year</th>\n",
       "      <th>LAEI 1km2 ID</th>\n",
       "      <th>GRID_ExactCut_ID</th>\n",
       "      <th>X_COORDINATE</th>\n",
       "      <th>Y_COORDINATE</th>\n",
       "      <th>Borough</th>\n",
       "      <th>Zone</th>\n",
       "      <th>Total_CO2</th>\n",
       "    </tr>\n",
       "  </thead>\n",
       "  <tbody>\n",
       "    <tr>\n",
       "      <th>0</th>\n",
       "      <td>2008</td>\n",
       "      <td>5910</td>\n",
       "      <td>1</td>\n",
       "      <td>510500</td>\n",
       "      <td>203500</td>\n",
       "      <td>NonGLA</td>\n",
       "      <td>NonGLA</td>\n",
       "      <td>886.07</td>\n",
       "    </tr>\n",
       "    <tr>\n",
       "      <th>1</th>\n",
       "      <td>2008</td>\n",
       "      <td>5911</td>\n",
       "      <td>2</td>\n",
       "      <td>511500</td>\n",
       "      <td>203500</td>\n",
       "      <td>NonGLA</td>\n",
       "      <td>NonGLA</td>\n",
       "      <td>13999.04</td>\n",
       "    </tr>\n",
       "    <tr>\n",
       "      <th>2</th>\n",
       "      <td>2008</td>\n",
       "      <td>5912</td>\n",
       "      <td>3</td>\n",
       "      <td>512500</td>\n",
       "      <td>203500</td>\n",
       "      <td>NonGLA</td>\n",
       "      <td>NonGLA</td>\n",
       "      <td>7950.19</td>\n",
       "    </tr>\n",
       "    <tr>\n",
       "      <th>3</th>\n",
       "      <td>2008</td>\n",
       "      <td>5915</td>\n",
       "      <td>4</td>\n",
       "      <td>515500</td>\n",
       "      <td>203500</td>\n",
       "      <td>NonGLA</td>\n",
       "      <td>NonGLA</td>\n",
       "      <td>11873.98</td>\n",
       "    </tr>\n",
       "    <tr>\n",
       "      <th>4</th>\n",
       "      <td>2008</td>\n",
       "      <td>5916</td>\n",
       "      <td>5</td>\n",
       "      <td>516500</td>\n",
       "      <td>203500</td>\n",
       "      <td>NonGLA</td>\n",
       "      <td>NonGLA</td>\n",
       "      <td>5534.79</td>\n",
       "    </tr>\n",
       "  </tbody>\n",
       "</table>\n",
       "</div>"
      ],
      "text/plain": [
       "   Year  LAEI 1km2 ID  GRID_ExactCut_ID  X_COORDINATE  Y_COORDINATE Borough  \\\n",
       "0  2008          5910                 1        510500        203500  NonGLA   \n",
       "1  2008          5911                 2        511500        203500  NonGLA   \n",
       "2  2008          5912                 3        512500        203500  NonGLA   \n",
       "3  2008          5915                 4        515500        203500  NonGLA   \n",
       "4  2008          5916                 5        516500        203500  NonGLA   \n",
       "\n",
       "     Zone  Total_CO2  \n",
       "0  NonGLA     886.07  \n",
       "1  NonGLA   13999.04  \n",
       "2  NonGLA    7950.19  \n",
       "3  NonGLA   11873.98  \n",
       "4  NonGLA    5534.79  "
      ]
     },
     "execution_count": 76,
     "metadata": {},
     "output_type": "execute_result"
    }
   ],
   "source": [
    "datapath2= 'CO2_dataframe.csv'\n",
    "co2_df = pd.read_csv(directory + datapath2, thousands=',')\n",
    "co2_df = co2_df.rename(columns= {'Total': 'Total_CO2', \\\n",
    "                                 'Easting': 'X_COORDINATE', \\\n",
    "                                 'Northing': 'Y_COORDINATE'})\n",
    "co2_df.head()\n",
    "#co2_df['Total_CO2']= co2_df['Total_CO2'].apply(lambda x: x.replace('\\t', ''))\n"
   ]
  },
  {
   "cell_type": "code",
   "execution_count": 77,
   "metadata": {
    "colab": {
     "autoexec": {
      "startup": false,
      "wait_interval": 0
     }
    },
    "colab_type": "code",
    "id": "wy9oFw5yJ2_F"
   },
   "outputs": [
    {
     "name": "stdout",
     "output_type": "stream",
     "text": [
      "                                             ADDRESS BLPU_STATE_CODE  \\\n",
      "0  FLAT 9, MATTHEWS COURT, HIGHBURY GRANGE, LONDO...             NaN   \n",
      "1  FLAT 21, DRAKELEY COURT, AUBERT PARK, LONDON, ...             NaN   \n",
      "2        54, PARK VIEW, COLLINS ROAD, LONDON, N5 2UD             NaN   \n",
      "3         FLAT 11, 71A, DRAYTON PARK, LONDON, N5 1AN             NaN   \n",
      "4       141, PARK VIEW, COLLINS ROAD, LONDON, N5 2UE             NaN   \n",
      "\n",
      "  BLPU_STATE_CODE_DESCRIPTION BLPU_STATE_DATE   BUILDING_NAME BUILDING_NUMBER  \\\n",
      "0      Unknown/Not applicable             NaN  MATTHEWS COURT             NaN   \n",
      "1      Unknown/Not applicable             NaN  DRAKELEY COURT             NaN   \n",
      "2      Unknown/Not applicable             NaN             NaN              54   \n",
      "3      Unknown/Not applicable             NaN             71A             NaN   \n",
      "4      Unknown/Not applicable             NaN             NaN             141   \n",
      "\n",
      "  CLASSIFICATION_CODE                    CLASSIFICATION_CODE_DESCRIPTION  \\\n",
      "0                  RD                                           Dwelling   \n",
      "1                RD06  Self Contained Flat (Includes Maisonette / Apa...   \n",
      "2                RD06  Self Contained Flat (Includes Maisonette / Apa...   \n",
      "3                RD06  Self Contained Flat (Includes Maisonette / Apa...   \n",
      "4                RD06  Self Contained Flat (Includes Maisonette / Apa...   \n",
      "\n",
      "  DEPARTMENT_NAME DEPENDENT_THOROUGHFARE_NAME    ...    SUB_BUILDING_NAME  \\\n",
      "0             NaN                         NaN    ...               FLAT 9   \n",
      "1             NaN                         NaN    ...              FLAT 21   \n",
      "2             NaN                   PARK VIEW    ...                  NaN   \n",
      "3             NaN                         NaN    ...              FLAT 11   \n",
      "4             NaN                   PARK VIEW    ...                  NaN   \n",
      "\n",
      "  THOROUGHFARE_NAME TOPOGRAPHY_LAYER_TOID     UDPRN         UPRN X_COORDINATE  \\\n",
      "0   HIGHBURY GRANGE     osgb1000005904328  15522705   5300043373     532011.0   \n",
      "1       AUBERT PARK     osgb1000005746331  15519501   5300044167     531608.0   \n",
      "2      COLLINS ROAD     osgb1000005904063  15524288   5300022720     532408.0   \n",
      "3      DRAYTON PARK  osgb1000001802755910  50611428  10012793706     531447.0   \n",
      "4      COLLINS ROAD     osgb1000005904047  15524363   5300022795     532365.0   \n",
      "\n",
      "   Y_COORDINATE PTAL_2018 Region Total_CO2  \n",
      "0      185698.0         2     N5  19493.78  \n",
      "1      185825.0         5     N5  24800.88  \n",
      "2      185842.0         3     N5  19493.78  \n",
      "3      185570.0         6     N5  24800.88  \n",
      "4      185905.0         2     N5  19493.78  \n",
      "\n",
      "[5 rows x 37 columns]\n"
     ]
    }
   ],
   "source": [
    "co2_points = co2_df[['X_COORDINATE', 'Y_COORDINATE']]\n",
    "#print(co2_points.iloc[:10, :])\n",
    "df['Total_CO2'] = df.apply(lambda row: co2_df.Total_CO2[ssd.cdist([[row['X_COORDINATE'], row['Y_COORDINATE']]], co2_points).argmin()], axis=1)\n",
    "print(df.head())"
   ]
  },
  {
   "cell_type": "code",
   "execution_count": 80,
   "metadata": {
    "colab": {
     "autoexec": {
      "startup": false,
      "wait_interval": 0
     },
     "base_uri": "https://localhost:8080/",
     "height": 5610,
     "output_extras": [
      {
       "item_id": 1
      }
     ]
    },
    "colab_type": "code",
    "executionInfo": {
     "elapsed": 833,
     "status": "ok",
     "timestamp": 1521310236268,
     "user": {
      "displayName": "Florian Rathgeber",
      "photoUrl": "//lh5.googleusercontent.com/-pwowNI0gvJ0/AAAAAAAAAAI/AAAAAAABN4M/5slPtO2MMcE/s50-c-k-no/photo.jpg",
      "userId": "112983298713989864872"
     },
     "user_tz": 0
    },
    "id": "IpR6_ktv2aGj",
    "outputId": "c3736ec1-5bbe-445a-e28b-7f456168a152"
   },
   "outputs": [
    {
     "name": "stdout",
     "output_type": "stream",
     "text": [
      "           PTAL_2018  Total_CO2\n",
      "PTAL_2018   1.000000   0.256944\n",
      "Total_CO2   0.256944   1.000000\n"
     ]
    }
   ],
   "source": [
    "scores = df[['PTAL_2018', 'Total_CO2']]\n",
    "ptal_co2 = pd.DataFrame.corr(scores)\n",
    "print(ptal_co2)"
   ]
  },
  {
   "cell_type": "code",
   "execution_count": 81,
   "metadata": {
    "colab": {
     "autoexec": {
      "startup": false,
      "wait_interval": 0
     }
    },
    "colab_type": "code",
    "id": "NhQ7n9wc4sao"
   },
   "outputs": [
    {
     "data": {
      "text/html": [
       "<div>\n",
       "<style scoped>\n",
       "    .dataframe tbody tr th:only-of-type {\n",
       "        vertical-align: middle;\n",
       "    }\n",
       "\n",
       "    .dataframe tbody tr th {\n",
       "        vertical-align: top;\n",
       "    }\n",
       "\n",
       "    .dataframe thead th {\n",
       "        text-align: right;\n",
       "    }\n",
       "</style>\n",
       "<table border=\"1\" class=\"dataframe\">\n",
       "  <thead>\n",
       "    <tr style=\"text-align: right;\">\n",
       "      <th></th>\n",
       "      <th>LOCAL_CUSTODIAN_CODE</th>\n",
       "      <th>MATCH</th>\n",
       "      <th>X_COORDINATE</th>\n",
       "      <th>Y_COORDINATE</th>\n",
       "      <th>PTAL_2018</th>\n",
       "      <th>Total_CO2</th>\n",
       "    </tr>\n",
       "  </thead>\n",
       "  <tbody>\n",
       "    <tr>\n",
       "      <th>count</th>\n",
       "      <td>10023.000000</td>\n",
       "      <td>10023.0</td>\n",
       "      <td>10023.000000</td>\n",
       "      <td>10023.000000</td>\n",
       "      <td>10023.000000</td>\n",
       "      <td>10023.000000</td>\n",
       "    </tr>\n",
       "    <tr>\n",
       "      <th>mean</th>\n",
       "      <td>5576.343909</td>\n",
       "      <td>1.0</td>\n",
       "      <td>531925.823106</td>\n",
       "      <td>185673.366936</td>\n",
       "      <td>4.701387</td>\n",
       "      <td>18647.472693</td>\n",
       "    </tr>\n",
       "    <tr>\n",
       "      <th>std</th>\n",
       "      <td>141.820190</td>\n",
       "      <td>0.0</td>\n",
       "      <td>380.010377</td>\n",
       "      <td>403.899651</td>\n",
       "      <td>1.293076</td>\n",
       "      <td>7683.895139</td>\n",
       "    </tr>\n",
       "    <tr>\n",
       "      <th>min</th>\n",
       "      <td>5360.000000</td>\n",
       "      <td>1.0</td>\n",
       "      <td>531183.000000</td>\n",
       "      <td>184748.000000</td>\n",
       "      <td>2.000000</td>\n",
       "      <td>4630.100000</td>\n",
       "    </tr>\n",
       "    <tr>\n",
       "      <th>25%</th>\n",
       "      <td>5570.000000</td>\n",
       "      <td>1.0</td>\n",
       "      <td>531600.000000</td>\n",
       "      <td>185316.000000</td>\n",
       "      <td>4.000000</td>\n",
       "      <td>19493.780000</td>\n",
       "    </tr>\n",
       "    <tr>\n",
       "      <th>50%</th>\n",
       "      <td>5570.000000</td>\n",
       "      <td>1.0</td>\n",
       "      <td>531918.000000</td>\n",
       "      <td>185701.000000</td>\n",
       "      <td>5.000000</td>\n",
       "      <td>19493.780000</td>\n",
       "    </tr>\n",
       "    <tr>\n",
       "      <th>75%</th>\n",
       "      <td>5570.000000</td>\n",
       "      <td>1.0</td>\n",
       "      <td>532225.000000</td>\n",
       "      <td>185996.000000</td>\n",
       "      <td>6.000000</td>\n",
       "      <td>24800.880000</td>\n",
       "    </tr>\n",
       "    <tr>\n",
       "      <th>max</th>\n",
       "      <td>7655.000000</td>\n",
       "      <td>1.0</td>\n",
       "      <td>532773.000000</td>\n",
       "      <td>186495.000000</td>\n",
       "      <td>7.000000</td>\n",
       "      <td>29136.180000</td>\n",
       "    </tr>\n",
       "  </tbody>\n",
       "</table>\n",
       "</div>"
      ],
      "text/plain": [
       "       LOCAL_CUSTODIAN_CODE    MATCH   X_COORDINATE   Y_COORDINATE  \\\n",
       "count          10023.000000  10023.0   10023.000000   10023.000000   \n",
       "mean            5576.343909      1.0  531925.823106  185673.366936   \n",
       "std              141.820190      0.0     380.010377     403.899651   \n",
       "min             5360.000000      1.0  531183.000000  184748.000000   \n",
       "25%             5570.000000      1.0  531600.000000  185316.000000   \n",
       "50%             5570.000000      1.0  531918.000000  185701.000000   \n",
       "75%             5570.000000      1.0  532225.000000  185996.000000   \n",
       "max             7655.000000      1.0  532773.000000  186495.000000   \n",
       "\n",
       "          PTAL_2018     Total_CO2  \n",
       "count  10023.000000  10023.000000  \n",
       "mean       4.701387  18647.472693  \n",
       "std        1.293076   7683.895139  \n",
       "min        2.000000   4630.100000  \n",
       "25%        4.000000  19493.780000  \n",
       "50%        5.000000  19493.780000  \n",
       "75%        6.000000  24800.880000  \n",
       "max        7.000000  29136.180000  "
      ]
     },
     "execution_count": 81,
     "metadata": {},
     "output_type": "execute_result"
    }
   ],
   "source": [
    "df.describe()"
   ]
  },
  {
   "cell_type": "code",
   "execution_count": 84,
   "metadata": {},
   "outputs": [
    {
     "data": {
      "text/html": [
       "<div>\n",
       "<style scoped>\n",
       "    .dataframe tbody tr th:only-of-type {\n",
       "        vertical-align: middle;\n",
       "    }\n",
       "\n",
       "    .dataframe tbody tr th {\n",
       "        vertical-align: top;\n",
       "    }\n",
       "\n",
       "    .dataframe thead th {\n",
       "        text-align: right;\n",
       "    }\n",
       "</style>\n",
       "<table border=\"1\" class=\"dataframe\">\n",
       "  <thead>\n",
       "    <tr style=\"text-align: right;\">\n",
       "      <th></th>\n",
       "      <th>id</th>\n",
       "      <th>metres</th>\n",
       "      <th>meridian_id</th>\n",
       "      <th>meridian_gid</th>\n",
       "      <th>meridian_code</th>\n",
       "      <th>meridian_osodr</th>\n",
       "      <th>meridian_number</th>\n",
       "      <th>meridian_road_name</th>\n",
       "      <th>meridian_indicator</th>\n",
       "      <th>meridian_class</th>\n",
       "      <th>...</th>\n",
       "      <th>oa11cd</th>\n",
       "      <th>wz11cd</th>\n",
       "      <th>lsoa11cd</th>\n",
       "      <th>lsoa11nm</th>\n",
       "      <th>msoa11cd</th>\n",
       "      <th>msoa11nm</th>\n",
       "      <th>lad11cd</th>\n",
       "      <th>lad11nm</th>\n",
       "      <th>meridian_class_scale</th>\n",
       "      <th>wkt</th>\n",
       "    </tr>\n",
       "  </thead>\n",
       "  <tbody>\n",
       "    <tr>\n",
       "      <th>0</th>\n",
       "      <td>5470</td>\n",
       "      <td>59.908263</td>\n",
       "      <td>761424</td>\n",
       "      <td>756472</td>\n",
       "      <td>3004</td>\n",
       "      <td>O16BHGHF0PPAW</td>\n",
       "      <td>NaN</td>\n",
       "      <td>STENTIFORD HILL ROAD</td>\n",
       "      <td>NaN</td>\n",
       "      <td>minor</td>\n",
       "      <td>...</td>\n",
       "      <td>E00076895</td>\n",
       "      <td>E33048014</td>\n",
       "      <td>E01015217</td>\n",
       "      <td>Torbay 008A</td>\n",
       "      <td>E02003161</td>\n",
       "      <td>Torbay 008</td>\n",
       "      <td>E06000027</td>\n",
       "      <td>Torbay</td>\n",
       "      <td>1</td>\n",
       "      <td>LINESTRING(291820 63959,291805 64017)</td>\n",
       "    </tr>\n",
       "    <tr>\n",
       "      <th>1</th>\n",
       "      <td>5471</td>\n",
       "      <td>99.126182</td>\n",
       "      <td>761424</td>\n",
       "      <td>756472</td>\n",
       "      <td>3004</td>\n",
       "      <td>O16BHGHF0PPAW</td>\n",
       "      <td>NaN</td>\n",
       "      <td>STENTIFORD HILL ROAD</td>\n",
       "      <td>NaN</td>\n",
       "      <td>minor</td>\n",
       "      <td>...</td>\n",
       "      <td>E00076895</td>\n",
       "      <td>E33048014</td>\n",
       "      <td>E01015217</td>\n",
       "      <td>Torbay 008A</td>\n",
       "      <td>E02003161</td>\n",
       "      <td>Torbay 008</td>\n",
       "      <td>E06000027</td>\n",
       "      <td>Torbay</td>\n",
       "      <td>1</td>\n",
       "      <td>LINESTRING(291805 64017,291706 64022)</td>\n",
       "    </tr>\n",
       "    <tr>\n",
       "      <th>2</th>\n",
       "      <td>5472</td>\n",
       "      <td>199.123078</td>\n",
       "      <td>761425</td>\n",
       "      <td>756473</td>\n",
       "      <td>3004</td>\n",
       "      <td>O16BGENY0X2AW</td>\n",
       "      <td>NaN</td>\n",
       "      <td>WHIDBORNE AVENUE</td>\n",
       "      <td>NaN</td>\n",
       "      <td>minor</td>\n",
       "      <td>...</td>\n",
       "      <td>E00077168</td>\n",
       "      <td>E33048019</td>\n",
       "      <td>E01015271</td>\n",
       "      <td>Torbay 010E</td>\n",
       "      <td>E02003163</td>\n",
       "      <td>Torbay 010</td>\n",
       "      <td>E06000027</td>\n",
       "      <td>Torbay</td>\n",
       "      <td>1</td>\n",
       "      <td>LINESTRING(294362 63533,294207 63658)</td>\n",
       "    </tr>\n",
       "    <tr>\n",
       "      <th>3</th>\n",
       "      <td>5473</td>\n",
       "      <td>241.615397</td>\n",
       "      <td>761425</td>\n",
       "      <td>756473</td>\n",
       "      <td>3004</td>\n",
       "      <td>O16BGENY0X2AW</td>\n",
       "      <td>NaN</td>\n",
       "      <td>WHIDBORNE AVENUE</td>\n",
       "      <td>NaN</td>\n",
       "      <td>minor</td>\n",
       "      <td>...</td>\n",
       "      <td>E00077168</td>\n",
       "      <td>E33048019</td>\n",
       "      <td>E01015271</td>\n",
       "      <td>Torbay 010E</td>\n",
       "      <td>E02003163</td>\n",
       "      <td>Torbay 010</td>\n",
       "      <td>E06000027</td>\n",
       "      <td>Torbay</td>\n",
       "      <td>1</td>\n",
       "      <td>LINESTRING(294207 63658,293970 63611)</td>\n",
       "    </tr>\n",
       "    <tr>\n",
       "      <th>4</th>\n",
       "      <td>5474</td>\n",
       "      <td>149.201206</td>\n",
       "      <td>761425</td>\n",
       "      <td>756473</td>\n",
       "      <td>3004</td>\n",
       "      <td>O16BGENY0X2AW</td>\n",
       "      <td>NaN</td>\n",
       "      <td>WHIDBORNE AVENUE</td>\n",
       "      <td>NaN</td>\n",
       "      <td>minor</td>\n",
       "      <td>...</td>\n",
       "      <td>E00077168</td>\n",
       "      <td>E33048019</td>\n",
       "      <td>E01015271</td>\n",
       "      <td>Torbay 010E</td>\n",
       "      <td>E02003163</td>\n",
       "      <td>Torbay 010</td>\n",
       "      <td>E06000027</td>\n",
       "      <td>Torbay</td>\n",
       "      <td>1</td>\n",
       "      <td>LINESTRING(293970 63611,293851 63521)</td>\n",
       "    </tr>\n",
       "  </tbody>\n",
       "</table>\n",
       "<p>5 rows × 36 columns</p>\n",
       "</div>"
      ],
      "text/plain": [
       "     id      metres  meridian_id  meridian_gid  meridian_code meridian_osodr  \\\n",
       "0  5470   59.908263       761424        756472           3004  O16BHGHF0PPAW   \n",
       "1  5471   99.126182       761424        756472           3004  O16BHGHF0PPAW   \n",
       "2  5472  199.123078       761425        756473           3004  O16BGENY0X2AW   \n",
       "3  5473  241.615397       761425        756473           3004  O16BGENY0X2AW   \n",
       "4  5474  149.201206       761425        756473           3004  O16BGENY0X2AW   \n",
       "\n",
       "  meridian_number    meridian_road_name meridian_indicator meridian_class  \\\n",
       "0             NaN  STENTIFORD HILL ROAD                NaN          minor   \n",
       "1             NaN  STENTIFORD HILL ROAD                NaN          minor   \n",
       "2             NaN      WHIDBORNE AVENUE                NaN          minor   \n",
       "3             NaN      WHIDBORNE AVENUE                NaN          minor   \n",
       "4             NaN      WHIDBORNE AVENUE                NaN          minor   \n",
       "\n",
       "                   ...                       oa11cd     wz11cd   lsoa11cd  \\\n",
       "0                  ...                    E00076895  E33048014  E01015217   \n",
       "1                  ...                    E00076895  E33048014  E01015217   \n",
       "2                  ...                    E00077168  E33048019  E01015271   \n",
       "3                  ...                    E00077168  E33048019  E01015271   \n",
       "4                  ...                    E00077168  E33048019  E01015271   \n",
       "\n",
       "      lsoa11nm   msoa11cd    msoa11nm    lad11cd  lad11nm  \\\n",
       "0  Torbay 008A  E02003161  Torbay 008  E06000027   Torbay   \n",
       "1  Torbay 008A  E02003161  Torbay 008  E06000027   Torbay   \n",
       "2  Torbay 010E  E02003163  Torbay 010  E06000027   Torbay   \n",
       "3  Torbay 010E  E02003163  Torbay 010  E06000027   Torbay   \n",
       "4  Torbay 010E  E02003163  Torbay 010  E06000027   Torbay   \n",
       "\n",
       "   meridian_class_scale                                    wkt  \n",
       "0                     1  LINESTRING(291820 63959,291805 64017)  \n",
       "1                     1  LINESTRING(291805 64017,291706 64022)  \n",
       "2                     1  LINESTRING(294362 63533,294207 63658)  \n",
       "3                     1  LINESTRING(294207 63658,293970 63611)  \n",
       "4                     1  LINESTRING(293970 63611,293851 63521)  \n",
       "\n",
       "[5 rows x 36 columns]"
      ]
     },
     "execution_count": 84,
     "metadata": {},
     "output_type": "execute_result"
    }
   ],
   "source": [
    "datapath3= 'ssx_openmapping_gb_v1.csv'\n",
    "syntax_data = pd.read_csv(directory + datapath3)#, thousands=',')\n",
    "#co2_df = co2_df.rename(columns= {'Total': 'Total_CO2', \\\n",
    "#                                 'Easting': 'X_COORDINATE', \\\n",
    "#                                 'Northing': 'Y_COORDINATE'})\n",
    "#co2_df.head()\n",
    "syntax_data.head()\n"
   ]
  },
  {
   "cell_type": "code",
   "execution_count": 108,
   "metadata": {},
   "outputs": [
    {
     "data": {
      "text/html": [
       "<div>\n",
       "<style scoped>\n",
       "    .dataframe tbody tr th:only-of-type {\n",
       "        vertical-align: middle;\n",
       "    }\n",
       "\n",
       "    .dataframe tbody tr th {\n",
       "        vertical-align: top;\n",
       "    }\n",
       "\n",
       "    .dataframe thead th {\n",
       "        text-align: right;\n",
       "    }\n",
       "</style>\n",
       "<table border=\"1\" class=\"dataframe\">\n",
       "  <thead>\n",
       "    <tr style=\"text-align: right;\">\n",
       "      <th></th>\n",
       "      <th>lsoa11cd</th>\n",
       "      <th>choice2kmrank</th>\n",
       "      <th>choice10kmrank</th>\n",
       "      <th>integration2kmrank</th>\n",
       "      <th>integration10kmrank</th>\n",
       "    </tr>\n",
       "  </thead>\n",
       "  <tbody>\n",
       "    <tr>\n",
       "      <th>0</th>\n",
       "      <td>E01015217</td>\n",
       "      <td>0.865533</td>\n",
       "      <td>0.646502</td>\n",
       "      <td>0.489954</td>\n",
       "      <td>0.446244</td>\n",
       "    </tr>\n",
       "    <tr>\n",
       "      <th>1</th>\n",
       "      <td>E01015217</td>\n",
       "      <td>0.877259</td>\n",
       "      <td>0.666571</td>\n",
       "      <td>0.586596</td>\n",
       "      <td>0.532800</td>\n",
       "    </tr>\n",
       "    <tr>\n",
       "      <th>2</th>\n",
       "      <td>E01015271</td>\n",
       "      <td>0.119891</td>\n",
       "      <td>0.315874</td>\n",
       "      <td>0.013624</td>\n",
       "      <td>0.061642</td>\n",
       "    </tr>\n",
       "    <tr>\n",
       "      <th>3</th>\n",
       "      <td>E01015271</td>\n",
       "      <td>0.090909</td>\n",
       "      <td>0.199432</td>\n",
       "      <td>0.004435</td>\n",
       "      <td>0.049503</td>\n",
       "    </tr>\n",
       "    <tr>\n",
       "      <th>4</th>\n",
       "      <td>E01015271</td>\n",
       "      <td>0.060241</td>\n",
       "      <td>0.056524</td>\n",
       "      <td>0.000000</td>\n",
       "      <td>0.044120</td>\n",
       "    </tr>\n",
       "  </tbody>\n",
       "</table>\n",
       "</div>"
      ],
      "text/plain": [
       "    lsoa11cd  choice2kmrank  choice10kmrank  integration2kmrank  \\\n",
       "0  E01015217       0.865533        0.646502            0.489954   \n",
       "1  E01015217       0.877259        0.666571            0.586596   \n",
       "2  E01015271       0.119891        0.315874            0.013624   \n",
       "3  E01015271       0.090909        0.199432            0.004435   \n",
       "4  E01015271       0.060241        0.056524            0.000000   \n",
       "\n",
       "   integration10kmrank  \n",
       "0             0.446244  \n",
       "1             0.532800  \n",
       "2             0.061642  \n",
       "3             0.049503  \n",
       "4             0.044120  "
      ]
     },
     "execution_count": 108,
     "metadata": {},
     "output_type": "execute_result"
    }
   ],
   "source": [
    "syntax_rank_data = syntax_data[['lsoa11cd', 'choice2kmrank', 'choice10kmrank', 'integration2kmrank', 'integration10kmrank']]\n",
    "syntax_rank_data.head()\n"
   ]
  },
  {
   "cell_type": "code",
   "execution_count": 115,
   "metadata": {},
   "outputs": [
    {
     "data": {
      "text/html": [
       "<div>\n",
       "<style scoped>\n",
       "    .dataframe tbody tr th:only-of-type {\n",
       "        vertical-align: middle;\n",
       "    }\n",
       "\n",
       "    .dataframe tbody tr th {\n",
       "        vertical-align: top;\n",
       "    }\n",
       "\n",
       "    .dataframe thead th {\n",
       "        text-align: right;\n",
       "    }\n",
       "</style>\n",
       "<table border=\"1\" class=\"dataframe\">\n",
       "  <thead>\n",
       "    <tr style=\"text-align: right;\">\n",
       "      <th></th>\n",
       "      <th>lsoa11cd</th>\n",
       "      <th>X_COORDINATE</th>\n",
       "      <th>Y_COORDINATE</th>\n",
       "    </tr>\n",
       "  </thead>\n",
       "  <tbody>\n",
       "    <tr>\n",
       "      <th>0</th>\n",
       "      <td>E01000675</td>\n",
       "      <td>540291</td>\n",
       "      <td>168873</td>\n",
       "    </tr>\n",
       "    <tr>\n",
       "      <th>1</th>\n",
       "      <td>E01000676</td>\n",
       "      <td>540262</td>\n",
       "      <td>169405</td>\n",
       "    </tr>\n",
       "    <tr>\n",
       "      <th>2</th>\n",
       "      <td>E01000675</td>\n",
       "      <td>540386</td>\n",
       "      <td>168710</td>\n",
       "    </tr>\n",
       "    <tr>\n",
       "      <th>3</th>\n",
       "      <td>E01000677</td>\n",
       "      <td>540197</td>\n",
       "      <td>169204</td>\n",
       "    </tr>\n",
       "    <tr>\n",
       "      <th>4</th>\n",
       "      <td>E01000675</td>\n",
       "      <td>540259</td>\n",
       "      <td>168855</td>\n",
       "    </tr>\n",
       "  </tbody>\n",
       "</table>\n",
       "</div>"
      ],
      "text/plain": [
       "    lsoa11cd  X_COORDINATE  Y_COORDINATE\n",
       "0  E01000675        540291        168873\n",
       "1  E01000676        540262        169405\n",
       "2  E01000675        540386        168710\n",
       "3  E01000677        540197        169204\n",
       "4  E01000675        540259        168855"
      ]
     },
     "execution_count": 115,
     "metadata": {},
     "output_type": "execute_result"
    }
   ],
   "source": [
    "#datapath4 = 'd4278d47b8db3858f75e76803de4ce697.csv'\n",
    "#geo_data = pd.read_csv(directory + datapath4)#, thousands=',')\n",
    "#geo_data = geo_data.rename(columns= {'LSOA Code': 'lsoa11cd', \\\n",
    "#                                     'Easting': 'X_COORDINATE', \\\n",
    "#                                     'Northing': 'Y_COORDINATE'})\n",
    "geo_data_thin = geo_data[['lsoa11cd', 'X_COORDINATE', 'Y_COORDINATE']]\n",
    "geo_data_thin.head()"
   ]
  },
  {
   "cell_type": "code",
   "execution_count": 118,
   "metadata": {},
   "outputs": [
    {
     "data": {
      "text/html": [
       "<div>\n",
       "<style scoped>\n",
       "    .dataframe tbody tr th:only-of-type {\n",
       "        vertical-align: middle;\n",
       "    }\n",
       "\n",
       "    .dataframe tbody tr th {\n",
       "        vertical-align: top;\n",
       "    }\n",
       "\n",
       "    .dataframe thead th {\n",
       "        text-align: right;\n",
       "    }\n",
       "</style>\n",
       "<table border=\"1\" class=\"dataframe\">\n",
       "  <thead>\n",
       "    <tr style=\"text-align: right;\">\n",
       "      <th></th>\n",
       "      <th>lsoa11cd</th>\n",
       "      <th>choice2kmrank</th>\n",
       "      <th>choice10kmrank</th>\n",
       "      <th>integration2kmrank</th>\n",
       "      <th>integration10kmrank</th>\n",
       "      <th>X_COORDINATE</th>\n",
       "      <th>Y_COORDINATE</th>\n",
       "    </tr>\n",
       "  </thead>\n",
       "  <tbody>\n",
       "    <tr>\n",
       "      <th>6589</th>\n",
       "      <td>E01032570</td>\n",
       "      <td>0.902098</td>\n",
       "      <td>0.770567</td>\n",
       "      <td>0.818182</td>\n",
       "      <td>0.12015</td>\n",
       "      <td>541886.0</td>\n",
       "      <td>158428.0</td>\n",
       "    </tr>\n",
       "    <tr>\n",
       "      <th>6590</th>\n",
       "      <td>E01032570</td>\n",
       "      <td>0.902098</td>\n",
       "      <td>0.770567</td>\n",
       "      <td>0.818182</td>\n",
       "      <td>0.12015</td>\n",
       "      <td>541886.0</td>\n",
       "      <td>158428.0</td>\n",
       "    </tr>\n",
       "    <tr>\n",
       "      <th>6591</th>\n",
       "      <td>E01032570</td>\n",
       "      <td>0.902098</td>\n",
       "      <td>0.770567</td>\n",
       "      <td>0.818182</td>\n",
       "      <td>0.12015</td>\n",
       "      <td>541886.0</td>\n",
       "      <td>158892.0</td>\n",
       "    </tr>\n",
       "    <tr>\n",
       "      <th>6592</th>\n",
       "      <td>E01032570</td>\n",
       "      <td>0.902098</td>\n",
       "      <td>0.770567</td>\n",
       "      <td>0.818182</td>\n",
       "      <td>0.12015</td>\n",
       "      <td>541984.0</td>\n",
       "      <td>158768.0</td>\n",
       "    </tr>\n",
       "    <tr>\n",
       "      <th>6593</th>\n",
       "      <td>E01032570</td>\n",
       "      <td>0.902098</td>\n",
       "      <td>0.770567</td>\n",
       "      <td>0.818182</td>\n",
       "      <td>0.12015</td>\n",
       "      <td>542184.0</td>\n",
       "      <td>158554.0</td>\n",
       "    </tr>\n",
       "  </tbody>\n",
       "</table>\n",
       "</div>"
      ],
      "text/plain": [
       "       lsoa11cd  choice2kmrank  choice10kmrank  integration2kmrank  \\\n",
       "6589  E01032570       0.902098        0.770567            0.818182   \n",
       "6590  E01032570       0.902098        0.770567            0.818182   \n",
       "6591  E01032570       0.902098        0.770567            0.818182   \n",
       "6592  E01032570       0.902098        0.770567            0.818182   \n",
       "6593  E01032570       0.902098        0.770567            0.818182   \n",
       "\n",
       "      integration10kmrank  X_COORDINATE  Y_COORDINATE  \n",
       "6589              0.12015      541886.0      158428.0  \n",
       "6590              0.12015      541886.0      158428.0  \n",
       "6591              0.12015      541886.0      158892.0  \n",
       "6592              0.12015      541984.0      158768.0  \n",
       "6593              0.12015      542184.0      158554.0  "
      ]
     },
     "execution_count": 118,
     "metadata": {},
     "output_type": "execute_result"
    }
   ],
   "source": [
    "choice_integration_data = syntax_rank_data.merge(geo_data_thin, on= ['lsoa11cd'], how= 'left').dropna()\n",
    "choice_integration_data.head()"
   ]
  },
  {
   "cell_type": "code",
   "execution_count": 120,
   "metadata": {},
   "outputs": [
    {
     "ename": "KeyboardInterrupt",
     "evalue": "",
     "output_type": "error",
     "traceback": [
      "\u001b[0;31m---------------------------------------------------------------------------\u001b[0m",
      "\u001b[0;31mKeyboardInterrupt\u001b[0m                         Traceback (most recent call last)",
      "\u001b[0;32m<ipython-input-120-f7696f2df6e2>\u001b[0m in \u001b[0;36m<module>\u001b[0;34m()\u001b[0m\n\u001b[1;32m      1\u001b[0m \u001b[0mchint_points\u001b[0m \u001b[0;34m=\u001b[0m \u001b[0mchoice_integration_data\u001b[0m\u001b[0;34m[\u001b[0m\u001b[0;34m[\u001b[0m\u001b[0;34m'X_COORDINATE'\u001b[0m\u001b[0;34m,\u001b[0m \u001b[0;34m'Y_COORDINATE'\u001b[0m\u001b[0;34m]\u001b[0m\u001b[0;34m]\u001b[0m\u001b[0;34m\u001b[0m\u001b[0m\n\u001b[1;32m      2\u001b[0m \u001b[0;31m#print(co2_points.iloc[:10, :])\u001b[0m\u001b[0;34m\u001b[0m\u001b[0;34m\u001b[0m\u001b[0m\n\u001b[0;32m----> 3\u001b[0;31m \u001b[0mdf\u001b[0m\u001b[0;34m[\u001b[0m\u001b[0;34m'integration2kmrank'\u001b[0m\u001b[0;34m]\u001b[0m \u001b[0;34m=\u001b[0m \u001b[0mdf\u001b[0m\u001b[0;34m.\u001b[0m\u001b[0mapply\u001b[0m\u001b[0;34m(\u001b[0m\u001b[0;32mlambda\u001b[0m \u001b[0mrow\u001b[0m\u001b[0;34m:\u001b[0m \u001b[0mchoice_integration_data\u001b[0m\u001b[0;34m.\u001b[0m\u001b[0mintegration2kmrank\u001b[0m\u001b[0;34m[\u001b[0m\u001b[0mssd\u001b[0m\u001b[0;34m.\u001b[0m\u001b[0mcdist\u001b[0m\u001b[0;34m(\u001b[0m\u001b[0;34m[\u001b[0m\u001b[0;34m[\u001b[0m\u001b[0mrow\u001b[0m\u001b[0;34m[\u001b[0m\u001b[0;34m'X_COORDINATE'\u001b[0m\u001b[0;34m]\u001b[0m\u001b[0;34m,\u001b[0m \u001b[0mrow\u001b[0m\u001b[0;34m[\u001b[0m\u001b[0;34m'Y_COORDINATE'\u001b[0m\u001b[0;34m]\u001b[0m\u001b[0;34m]\u001b[0m\u001b[0;34m]\u001b[0m\u001b[0;34m,\u001b[0m \u001b[0mchint_points\u001b[0m\u001b[0;34m)\u001b[0m\u001b[0;34m.\u001b[0m\u001b[0margmin\u001b[0m\u001b[0;34m(\u001b[0m\u001b[0;34m)\u001b[0m\u001b[0;34m]\u001b[0m\u001b[0;34m,\u001b[0m \u001b[0maxis\u001b[0m\u001b[0;34m=\u001b[0m\u001b[0;36m1\u001b[0m\u001b[0;34m)\u001b[0m\u001b[0;34m\u001b[0m\u001b[0m\n\u001b[0m\u001b[1;32m      4\u001b[0m \u001b[0mprint\u001b[0m\u001b[0;34m(\u001b[0m\u001b[0mdf\u001b[0m\u001b[0;34m.\u001b[0m\u001b[0mhead\u001b[0m\u001b[0;34m(\u001b[0m\u001b[0;34m)\u001b[0m\u001b[0;34m)\u001b[0m\u001b[0;34m\u001b[0m\u001b[0m\n",
      "\u001b[0;32m/anaconda3/lib/python3.6/site-packages/pandas/core/frame.py\u001b[0m in \u001b[0;36mapply\u001b[0;34m(self, func, axis, broadcast, raw, reduce, args, **kwds)\u001b[0m\n\u001b[1;32m   4875\u001b[0m                         \u001b[0mf\u001b[0m\u001b[0;34m,\u001b[0m \u001b[0maxis\u001b[0m\u001b[0;34m,\u001b[0m\u001b[0;34m\u001b[0m\u001b[0m\n\u001b[1;32m   4876\u001b[0m                         \u001b[0mreduce\u001b[0m\u001b[0;34m=\u001b[0m\u001b[0mreduce\u001b[0m\u001b[0;34m,\u001b[0m\u001b[0;34m\u001b[0m\u001b[0m\n\u001b[0;32m-> 4877\u001b[0;31m                         ignore_failures=ignore_failures)\n\u001b[0m\u001b[1;32m   4878\u001b[0m             \u001b[0;32melse\u001b[0m\u001b[0;34m:\u001b[0m\u001b[0;34m\u001b[0m\u001b[0m\n\u001b[1;32m   4879\u001b[0m                 \u001b[0;32mreturn\u001b[0m \u001b[0mself\u001b[0m\u001b[0;34m.\u001b[0m\u001b[0m_apply_broadcast\u001b[0m\u001b[0;34m(\u001b[0m\u001b[0mf\u001b[0m\u001b[0;34m,\u001b[0m \u001b[0maxis\u001b[0m\u001b[0;34m)\u001b[0m\u001b[0;34m\u001b[0m\u001b[0m\n",
      "\u001b[0;32m/anaconda3/lib/python3.6/site-packages/pandas/core/frame.py\u001b[0m in \u001b[0;36m_apply_standard\u001b[0;34m(self, func, axis, ignore_failures, reduce)\u001b[0m\n\u001b[1;32m   4931\u001b[0m                     \u001b[0mlabels\u001b[0m \u001b[0;34m=\u001b[0m \u001b[0mself\u001b[0m\u001b[0;34m.\u001b[0m\u001b[0m_get_agg_axis\u001b[0m\u001b[0;34m(\u001b[0m\u001b[0maxis\u001b[0m\u001b[0;34m)\u001b[0m\u001b[0;34m\u001b[0m\u001b[0m\n\u001b[1;32m   4932\u001b[0m                     result = lib.reduce(values, func, axis=axis, dummy=dummy,\n\u001b[0;32m-> 4933\u001b[0;31m                                         labels=labels)\n\u001b[0m\u001b[1;32m   4934\u001b[0m                     \u001b[0;32mreturn\u001b[0m \u001b[0mSeries\u001b[0m\u001b[0;34m(\u001b[0m\u001b[0mresult\u001b[0m\u001b[0;34m,\u001b[0m \u001b[0mindex\u001b[0m\u001b[0;34m=\u001b[0m\u001b[0mlabels\u001b[0m\u001b[0;34m)\u001b[0m\u001b[0;34m\u001b[0m\u001b[0m\n\u001b[1;32m   4935\u001b[0m                 \u001b[0;32mexcept\u001b[0m \u001b[0mException\u001b[0m\u001b[0;34m:\u001b[0m\u001b[0;34m\u001b[0m\u001b[0m\n",
      "\u001b[0;32mpandas/_libs/src/reduce.pyx\u001b[0m in \u001b[0;36mpandas._libs.lib.reduce\u001b[0;34m()\u001b[0m\n",
      "\u001b[0;32mpandas/_libs/src/reduce.pyx\u001b[0m in \u001b[0;36mpandas._libs.lib.Reducer.get_result\u001b[0;34m()\u001b[0m\n",
      "\u001b[0;32m<ipython-input-120-f7696f2df6e2>\u001b[0m in \u001b[0;36m<lambda>\u001b[0;34m(row)\u001b[0m\n\u001b[1;32m      1\u001b[0m \u001b[0mchint_points\u001b[0m \u001b[0;34m=\u001b[0m \u001b[0mchoice_integration_data\u001b[0m\u001b[0;34m[\u001b[0m\u001b[0;34m[\u001b[0m\u001b[0;34m'X_COORDINATE'\u001b[0m\u001b[0;34m,\u001b[0m \u001b[0;34m'Y_COORDINATE'\u001b[0m\u001b[0;34m]\u001b[0m\u001b[0;34m]\u001b[0m\u001b[0;34m\u001b[0m\u001b[0m\n\u001b[1;32m      2\u001b[0m \u001b[0;31m#print(co2_points.iloc[:10, :])\u001b[0m\u001b[0;34m\u001b[0m\u001b[0;34m\u001b[0m\u001b[0m\n\u001b[0;32m----> 3\u001b[0;31m \u001b[0mdf\u001b[0m\u001b[0;34m[\u001b[0m\u001b[0;34m'integration2kmrank'\u001b[0m\u001b[0;34m]\u001b[0m \u001b[0;34m=\u001b[0m \u001b[0mdf\u001b[0m\u001b[0;34m.\u001b[0m\u001b[0mapply\u001b[0m\u001b[0;34m(\u001b[0m\u001b[0;32mlambda\u001b[0m \u001b[0mrow\u001b[0m\u001b[0;34m:\u001b[0m \u001b[0mchoice_integration_data\u001b[0m\u001b[0;34m.\u001b[0m\u001b[0mintegration2kmrank\u001b[0m\u001b[0;34m[\u001b[0m\u001b[0mssd\u001b[0m\u001b[0;34m.\u001b[0m\u001b[0mcdist\u001b[0m\u001b[0;34m(\u001b[0m\u001b[0;34m[\u001b[0m\u001b[0;34m[\u001b[0m\u001b[0mrow\u001b[0m\u001b[0;34m[\u001b[0m\u001b[0;34m'X_COORDINATE'\u001b[0m\u001b[0;34m]\u001b[0m\u001b[0;34m,\u001b[0m \u001b[0mrow\u001b[0m\u001b[0;34m[\u001b[0m\u001b[0;34m'Y_COORDINATE'\u001b[0m\u001b[0;34m]\u001b[0m\u001b[0;34m]\u001b[0m\u001b[0;34m]\u001b[0m\u001b[0;34m,\u001b[0m \u001b[0mchint_points\u001b[0m\u001b[0;34m)\u001b[0m\u001b[0;34m.\u001b[0m\u001b[0margmin\u001b[0m\u001b[0;34m(\u001b[0m\u001b[0;34m)\u001b[0m\u001b[0;34m]\u001b[0m\u001b[0;34m,\u001b[0m \u001b[0maxis\u001b[0m\u001b[0;34m=\u001b[0m\u001b[0;36m1\u001b[0m\u001b[0;34m)\u001b[0m\u001b[0;34m\u001b[0m\u001b[0m\n\u001b[0m\u001b[1;32m      4\u001b[0m \u001b[0mprint\u001b[0m\u001b[0;34m(\u001b[0m\u001b[0mdf\u001b[0m\u001b[0;34m.\u001b[0m\u001b[0mhead\u001b[0m\u001b[0;34m(\u001b[0m\u001b[0;34m)\u001b[0m\u001b[0;34m)\u001b[0m\u001b[0;34m\u001b[0m\u001b[0m\n",
      "\u001b[0;32m/anaconda3/lib/python3.6/site-packages/scipy/spatial/distance.py\u001b[0m in \u001b[0;36mcdist\u001b[0;34m(XA, XB, metric, *args, **kwargs)\u001b[0m\n\u001b[1;32m   2357\u001b[0m \u001b[0;34m\u001b[0m\u001b[0m\n\u001b[1;32m   2358\u001b[0m     \u001b[0mXA\u001b[0m \u001b[0;34m=\u001b[0m \u001b[0mnp\u001b[0m\u001b[0;34m.\u001b[0m\u001b[0masarray\u001b[0m\u001b[0;34m(\u001b[0m\u001b[0mXA\u001b[0m\u001b[0;34m,\u001b[0m \u001b[0morder\u001b[0m\u001b[0;34m=\u001b[0m\u001b[0;34m'c'\u001b[0m\u001b[0;34m)\u001b[0m\u001b[0;34m\u001b[0m\u001b[0m\n\u001b[0;32m-> 2359\u001b[0;31m     \u001b[0mXB\u001b[0m \u001b[0;34m=\u001b[0m \u001b[0mnp\u001b[0m\u001b[0;34m.\u001b[0m\u001b[0masarray\u001b[0m\u001b[0;34m(\u001b[0m\u001b[0mXB\u001b[0m\u001b[0;34m,\u001b[0m \u001b[0morder\u001b[0m\u001b[0;34m=\u001b[0m\u001b[0;34m'c'\u001b[0m\u001b[0;34m)\u001b[0m\u001b[0;34m\u001b[0m\u001b[0m\n\u001b[0m\u001b[1;32m   2360\u001b[0m \u001b[0;34m\u001b[0m\u001b[0m\n\u001b[1;32m   2361\u001b[0m     \u001b[0;31m# The C code doesn't do striding.\u001b[0m\u001b[0;34m\u001b[0m\u001b[0;34m\u001b[0m\u001b[0m\n",
      "\u001b[0;32m/anaconda3/lib/python3.6/site-packages/numpy/core/numeric.py\u001b[0m in \u001b[0;36masarray\u001b[0;34m(a, dtype, order)\u001b[0m\n\u001b[1;32m    490\u001b[0m \u001b[0;34m\u001b[0m\u001b[0m\n\u001b[1;32m    491\u001b[0m     \"\"\"\n\u001b[0;32m--> 492\u001b[0;31m     \u001b[0;32mreturn\u001b[0m \u001b[0marray\u001b[0m\u001b[0;34m(\u001b[0m\u001b[0ma\u001b[0m\u001b[0;34m,\u001b[0m \u001b[0mdtype\u001b[0m\u001b[0;34m,\u001b[0m \u001b[0mcopy\u001b[0m\u001b[0;34m=\u001b[0m\u001b[0;32mFalse\u001b[0m\u001b[0;34m,\u001b[0m \u001b[0morder\u001b[0m\u001b[0;34m=\u001b[0m\u001b[0morder\u001b[0m\u001b[0;34m)\u001b[0m\u001b[0;34m\u001b[0m\u001b[0m\n\u001b[0m\u001b[1;32m    493\u001b[0m \u001b[0;34m\u001b[0m\u001b[0m\n\u001b[1;32m    494\u001b[0m \u001b[0;34m\u001b[0m\u001b[0m\n",
      "\u001b[0;31mKeyboardInterrupt\u001b[0m: "
     ]
    }
   ],
   "source": [
    "chint_points = choice_integration_data[['X_COORDINATE', 'Y_COORDINATE']]\n",
    "#print(co2_points.iloc[:10, :])\n",
    "df['integration2kmrank'] = df.apply(lambda row: choice_integration_data.integration2kmrank[ssd.cdist([[row['X_COORDINATE'], row['Y_COORDINATE']]], chint_points).argmin()], axis=1)\n",
    "print(df.head())"
   ]
  },
  {
   "cell_type": "code",
   "execution_count": 93,
   "metadata": {},
   "outputs": [
    {
     "data": {
      "text/plain": [
       "HIGH STREET          10699\n",
       "STATION ROAD          7933\n",
       "MAIN STREET           5044\n",
       "CHURCH ROAD           4770\n",
       "LONDON ROAD           4748\n",
       "CHURCH LANE           4498\n",
       "CHURCH STREET         3786\n",
       "MILL LANE             3602\n",
       "NEW ROAD              3208\n",
       "GREEN LANE            2861\n",
       "PARK ROAD             2764\n",
       "MAIN ROAD             2739\n",
       "THE STREET            2265\n",
       "BACK LANE             2085\n",
       "SCHOOL LANE           1798\n",
       "VICTORIA ROAD         1767\n",
       "PARK LANE             1696\n",
       "MANOR ROAD            1646\n",
       "LONG LANE             1387\n",
       "SANDY LANE            1359\n",
       "MOOR LANE             1345\n",
       "MILL ROAD             1344\n",
       "CHAPEL LANE           1317\n",
       "WEST STREET           1306\n",
       "KING STREET           1271\n",
       "GRANGE ROAD           1224\n",
       "NORTH ROAD            1213\n",
       "THE AVENUE            1210\n",
       "NORTH STREET          1203\n",
       "THE CRESCENT          1192\n",
       "                     ...  \n",
       "DURLING STREET           1\n",
       "MACQUARIE WAY            1\n",
       "CRAIGNEIL STREET         1\n",
       "BRAEBRIDGE PLACE         1\n",
       "LAKIN STREET             1\n",
       "ROWELL'S LANE            1\n",
       "EARL LANE                1\n",
       "BRAN CLOSE               1\n",
       "ESCOMBE DRIVE            1\n",
       "SOUTH BANK STREET        1\n",
       "TUKE STREET              1\n",
       "LIMEWOOD CRESCENT        1\n",
       "CRAIKA ROAD              1\n",
       "GARVEY WAY               1\n",
       "DURRANCE STREET          1\n",
       "SACKVILLE CLOSE          1\n",
       "ALVANLEY PLACE           1\n",
       "OLIVE GARDENS            1\n",
       "LEATHER CLOSE            1\n",
       "ALMOND WEST              1\n",
       "BIDEFORD STREET          1\n",
       "FOSSINGTON ROAD          1\n",
       "HAND FARM ROAD           1\n",
       "BARONE DRIVE             1\n",
       "CRAIGMOUNT PLACE         1\n",
       "PLUNGAR ROAD             1\n",
       "RAESWOOD ROAD            1\n",
       "PEET'S LANE              1\n",
       "SILVERWELL PARK          1\n",
       "COMMERCIAL HILL          1\n",
       "Name: meridian_road_name, Length: 184077, dtype: int64"
      ]
     },
     "execution_count": 93,
     "metadata": {},
     "output_type": "execute_result"
    }
   ],
   "source": [
    "scores = df[['PTAL_2018', 'Total_CO2', 'choice2kmrank', 'choice10kmrank', 'integration2kmrank', 'integration10kmrank']]\n",
    "all_n5_scores = pd.DataFrame.corr(scores)\n",
    "print(all_n5_scores)"
   ]
  },
  {
   "cell_type": "code",
   "execution_count": 99,
   "metadata": {},
   "outputs": [
    {
     "name": "stderr",
     "output_type": "stream",
     "text": [
      "/anaconda3/lib/python3.6/site-packages/IPython/core/interactiveshell.py:2728: DtypeWarning: Columns (17,32) have mixed types. Specify dtype option on import or set low_memory=False.\n",
      "  interactivity=interactivity, compiler=compiler, result=result)\n"
     ]
    },
    {
     "data": {
      "text/html": [
       "<div>\n",
       "<style scoped>\n",
       "    .dataframe tbody tr th:only-of-type {\n",
       "        vertical-align: middle;\n",
       "    }\n",
       "\n",
       "    .dataframe tbody tr th {\n",
       "        vertical-align: top;\n",
       "    }\n",
       "\n",
       "    .dataframe thead th {\n",
       "        text-align: right;\n",
       "    }\n",
       "</style>\n",
       "<table border=\"1\" class=\"dataframe\">\n",
       "  <thead>\n",
       "    <tr style=\"text-align: right;\">\n",
       "      <th></th>\n",
       "      <th>LSOA11cd</th>\n",
       "      <th>X_COORDINATE</th>\n",
       "      <th>Y_COORDINATE</th>\n",
       "    </tr>\n",
       "  </thead>\n",
       "  <tbody>\n",
       "    <tr>\n",
       "      <th>0</th>\n",
       "      <td>E01000675</td>\n",
       "      <td>540291</td>\n",
       "      <td>168873</td>\n",
       "    </tr>\n",
       "    <tr>\n",
       "      <th>1</th>\n",
       "      <td>E01000676</td>\n",
       "      <td>540262</td>\n",
       "      <td>169405</td>\n",
       "    </tr>\n",
       "    <tr>\n",
       "      <th>2</th>\n",
       "      <td>E01000675</td>\n",
       "      <td>540386</td>\n",
       "      <td>168710</td>\n",
       "    </tr>\n",
       "    <tr>\n",
       "      <th>3</th>\n",
       "      <td>E01000677</td>\n",
       "      <td>540197</td>\n",
       "      <td>169204</td>\n",
       "    </tr>\n",
       "    <tr>\n",
       "      <th>4</th>\n",
       "      <td>E01000675</td>\n",
       "      <td>540259</td>\n",
       "      <td>168855</td>\n",
       "    </tr>\n",
       "  </tbody>\n",
       "</table>\n",
       "</div>"
      ],
      "text/plain": [
       "    LSOA11cd  X_COORDINATE  Y_COORDINATE\n",
       "0  E01000675        540291        168873\n",
       "1  E01000676        540262        169405\n",
       "2  E01000675        540386        168710\n",
       "3  E01000677        540197        169204\n",
       "4  E01000675        540259        168855"
      ]
     },
     "execution_count": 99,
     "metadata": {},
     "output_type": "execute_result"
    }
   ],
   "source": []
  },
  {
   "cell_type": "code",
   "execution_count": null,
   "metadata": {},
   "outputs": [],
   "source": []
  }
 ],
 "metadata": {
  "colab": {
   "default_view": {},
   "name": "Ordnance Survey places.ipynb",
   "provenance": [],
   "version": "0.3.2",
   "views": {}
  },
  "kernelspec": {
   "display_name": "Python 3",
   "language": "python",
   "name": "python3"
  },
  "language_info": {
   "codemirror_mode": {
    "name": "ipython",
    "version": 3
   },
   "file_extension": ".py",
   "mimetype": "text/x-python",
   "name": "python",
   "nbconvert_exporter": "python",
   "pygments_lexer": "ipython3",
   "version": "3.6.4"
  }
 },
 "nbformat": 4,
 "nbformat_minor": 1
}
